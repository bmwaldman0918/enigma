{
 "cells": [
  {
   "cell_type": "code",
   "execution_count": null,
   "metadata": {},
   "outputs": [],
   "source": [
    "!pip install pandas numpy scikit-learn"
   ]
  },
  {
   "cell_type": "code",
   "execution_count": 4,
   "metadata": {},
   "outputs": [],
   "source": [
    "import pandas as pd\n",
    "import json\n",
    "from sklearn.ensemble import RandomForestClassifier\n",
    "from sklearn.model_selection import train_test_split\n",
    "from sklearn.preprocessing import LabelEncoder\n",
    "import pickle\n",
    "\n",
    "file_path = \"scraped_data.json\"\n",
    "with open(file_path, 'r') as f:\n",
    "    try:\n",
    "      df = pd.DataFrame(json.load(f))\n",
    "    except Exception as e:\n",
    "        print(f\"{e}\", flush=True)"
   ]
  },
  {
   "cell_type": "code",
   "execution_count": 12,
   "metadata": {},
   "outputs": [],
   "source": [
    "lf = RandomForestClassifier()\n",
    "all_characters = set(\"\".join(str(df['plain'].tolist() + df['encoded'].tolist())))\n",
    "char_encoder = LabelEncoder()\n",
    "char_encoder.fit(list(all_characters))\n",
    "df[\"plain_processed\"] = df[\"plain\"].apply(lambda x : char_encoder.transform(list(x)))\n",
    "df[\"encoded_processed\"] = df[\"encoded\"].apply(lambda x : char_encoder.transform(list(x)))\n",
    "X_train, X_test, y_train, y_test = train_test_split(df[\"plain_processed\"].tolist(), df[\"encoded_processed\"].to_list(), test_size=0.33, random_state=42)\n",
    "clf.fit(X_train, y_train)\n",
    "with open('model.pkl', 'wb') as f:\n",
    "    pickle.dump(clf, f)"
   ]
  },
  {
   "cell_type": "code",
   "execution_count": null,
   "metadata": {},
   "outputs": [],
   "source": [
    "with open('model.pkl', 'wb') as f:\n",
    "  clf = pickle.load(\"model.pkl\")"
   ]
  }
 ],
 "metadata": {
  "kernelspec": {
   "display_name": ".venv",
   "language": "python",
   "name": "python3"
  },
  "language_info": {
   "codemirror_mode": {
    "name": "ipython",
    "version": 3
   },
   "file_extension": ".py",
   "mimetype": "text/x-python",
   "name": "python",
   "nbconvert_exporter": "python",
   "pygments_lexer": "ipython3",
   "version": "3.12.8"
  }
 },
 "nbformat": 4,
 "nbformat_minor": 2
}
